{
 "cells": [
  {
   "cell_type": "code",
   "execution_count": 1,
   "metadata": {},
   "outputs": [],
   "source": [
    "from selenium import webdriver\n",
    "from selenium.webdriver.common.keys import Keys\n",
    "import time\n",
    "from selenium.webdriver.chrome.options import Options\n",
    "\n",
    "usr = \"dr.gasparjan@gmail.com\"\n",
    "pwd = \"00150740\"\n",
    "query = 'swiss posters magazine'\n",
    "no_of_pins = 100\n",
    "step = 10\n",
    "headless_mode = True\n",
    "\n",
    "options = Options()\n",
    "if headless_mode:\n",
    "    options.add_argument('--headless')\n",
    "    options.add_argument('--disable-gpu')\n",
    "\n",
    "driver = webdriver.Chrome(chrome_options=options)\n",
    "driver.get('https://pinterest.com/')\n",
    "time.sleep(3)\n",
    "\n",
    "elem = driver.find_element_by_xpath('/html/body/div[1]/div/div[1]/div/div[3]/div/div[2]/div[2]/button')\n",
    "elem.click()\n",
    "time.sleep(3)\n",
    "\n",
    "elem = driver.find_element_by_id(\"email\")\n",
    "elem.send_keys(usr)\n",
    "time.sleep(1)\n",
    "elem = driver.find_element_by_id(\"password\")\n",
    "elem.send_keys(pwd)\n",
    "time.sleep(1)\n",
    "elem.send_keys(Keys.RETURN)\n",
    "\n",
    "time.sleep(5)\n",
    "elem = driver.find_element_by_xpath('/html/body/div[1]/div/div[1]/div/div/div/div[2]/div[1]/div/div[2]/div/div/div[2]/div/div/div/div/div[1]/div[2]/input')\n",
    "elem.send_keys(query)\n",
    "time.sleep(3)\n",
    "elem.send_keys(Keys.RETURN)\n",
    "time.sleep(5)\n",
    "\n",
    "elem = driver.find_element_by_tag_name(\"body\")\n",
    "pins_list = set()\n",
    "\n",
    "while no_of_pins > 0:\n",
    "    post_elems = driver.find_elements_by_class_name('pinWrapper')\n",
    "    prev_pins_len = len(pins_list)\n",
    "    for pin in post_elems:\n",
    "        try:\n",
    "            pin_link = pin.find_element_by_tag_name('a').get_attribute('href')\n",
    "        except:\n",
    "            pass\n",
    "        pins_list.update([pin_link])\n",
    "    diff = len(pins_list) - prev_pins_len\n",
    "    if diff:\n",
    "        no_of_pins -= diff\n",
    "        for i in range(step):\n",
    "            elem.send_keys(Keys.PAGE_DOWN)\n",
    "            time.sleep(0.2)\n",
    "    else: \n",
    "        break\n",
    "pins_list = list(pins_list)\n",
    "\n",
    "driver.close()"
   ]
  },
  {
   "cell_type": "code",
   "execution_count": 2,
   "metadata": {},
   "outputs": [
    {
     "data": {
      "text/plain": [
       "100"
      ]
     },
     "execution_count": 2,
     "metadata": {},
     "output_type": "execute_result"
    }
   ],
   "source": [
    "len(pins_list)"
   ]
  },
  {
   "cell_type": "code",
   "execution_count": 27,
   "metadata": {
    "collapsed": true
   },
   "outputs": [],
   "source": [
    "import requests\n",
    "import os\n",
    "from urllib.request import urlretrieve\n",
    "\n",
    "from tqdm import tqdm\n",
    "from bs4 import BeautifulSoup\n",
    "\n",
    "class PinterestAPI:\n",
    "    def __init__(self, path=None, access_token=None):\n",
    "        self.path = path\n",
    "        self.access_token = access_token \n",
    "\n",
    "        if not os.path.isdir(self.path):\n",
    "            os.makedirs(self.path)\n",
    "            \n",
    "    def save_image(self, url, i):\n",
    "        extension = url.split('.')[-1]\n",
    "        saved_image_path = urlretrieve(url, \"{}/{}.{}\".format(self.path, str(i), extension))\n",
    "\n",
    "    def get_image_url_from_pin_url(self, url):\n",
    "        r = requests.get(url, timeout=10)\n",
    "        if r.status_code == 200:\n",
    "            soup = BeautifulSoup(r.text, 'html.parser')\n",
    "            images = [x['src'] for x in soup.findAll('img')]\n",
    "            if len(images) > 0:\n",
    "                return images[0]\n",
    "            return False\n",
    "        else:\n",
    "            raise ValueError(\"Can't get image from pin {} because of returning {} error code.\".format(url, r.status_code))\n",
    "    \n",
    "    def get_pins_from_board(self, boardId):\n",
    "        response = requests.get('https://api.pinterest.com/v1/boards/'+boardId+'/pins/', timeout=10,\n",
    "                                params={'access_token':self.access_token, 'page_size':10e6})\n",
    "        imageDatas = response.json()['data']\n",
    "        for i, imageData in enumerate(tqdm(imageDatas)):\n",
    "            image_url = self.get_image_url_from_pin_url(imageData[\"url\"])\n",
    "            if image_url:\n",
    "                self.save_image(image_url, i)\n",
    "                \n",
    "    def get_pins(self, pins_list):\n",
    "        if type(pins_list) != list:\n",
    "            pins_list = list(pins_list)\n",
    "        for i, pin in enumerate(tqdm(pins_list)):\n",
    "            response = requests.get('https://api.pinterest.com/v1/pins/'+pin.split('/')[-2], timeout=10,\n",
    "                                    params={'access_token':self.access_token})\n",
    "            imageData = response.json()['data']['url']\n",
    "            image_url = self.get_image_url_from_pin_url(imageData)\n",
    "            if image_url:\n",
    "                self.save_image(image_url, i)"
   ]
  },
  {
   "cell_type": "code",
   "execution_count": null,
   "metadata": {
    "scrolled": true
   },
   "outputs": [],
   "source": [
    "accessToken = \"Ae68KEq8bIai-7vSi_oqm7_OLn7_FRntp6Mu-QFEwj0mj8A5WQAAAAA\"\n",
    "boardId = \"18929329622858791\"\n",
    "folderPath = \"./pinterest_images\"\n",
    "\n",
    "getter = PinterestAPI(path=folderPath, access_token=accessToken)\n",
    "getter.get_pins(pins_list)"
   ]
  },
  {
   "cell_type": "code",
   "execution_count": null,
   "metadata": {
    "collapsed": true
   },
   "outputs": [],
   "source": []
  }
 ],
 "metadata": {
  "kernelspec": {
   "display_name": "Python 3",
   "language": "python",
   "name": "python3"
  },
  "language_info": {
   "codemirror_mode": {
    "name": "ipython",
    "version": 3
   },
   "file_extension": ".py",
   "mimetype": "text/x-python",
   "name": "python",
   "nbconvert_exporter": "python",
   "pygments_lexer": "ipython3",
   "version": "3.6.1"
  }
 },
 "nbformat": 4,
 "nbformat_minor": 2
}
